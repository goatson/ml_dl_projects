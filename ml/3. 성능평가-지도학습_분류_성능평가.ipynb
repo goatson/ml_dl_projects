{
 "cells": [
  {
   "cell_type": "markdown",
   "metadata": {},
   "source": [
    "### 성능평가\n",
    "\n",
    "- 평가항목 방식 케이스\n",
    "    - 지도학습의 분류\n",
    "        - 혼동행렬(정확도,f1-score,정밀도,재현율), AUC, ROC\n",
    "    - 지도학습의 회귀\n",
    "        - 손실\n",
    "    - 비지도학습\n",
    "    - 강화학습"
   ]
  },
  {
   "cell_type": "markdown",
   "metadata": {},
   "source": [
    "### 머신러닝 > 지도학습 > 분류 > 성능평가지표\n",
    "\n",
    "- 통계학의 혼동행렬이라는 항목을 이용하여 평가\n",
    "- 개요\n",
    "    - 예측값이 실제 관측값을 얼마나 정확하게 예측하였는가?\n",
    "    - 이 사항을 보여주는 행렬\n",
    "    - 예\n",
    "        - 암을 스스로 예측하였는데, 실제 양성인지 악성인지 예측하는 예\n",
    "        - 실제는 병이 있었는데, 없다고 예측, 있다고 예측 \n",
    "        - 실제는 병이 없었는데, 있다고 예측, 없다고 예측          "
   ]
  },
  {
   "cell_type": "markdown",
   "metadata": {},
   "source": [
    "|구분|예측:True|예측:False|\n",
    "|:--:|:--:|:--:|\n",
    "|실제:예(Positive)|TP|FN|\n",
    "|실제:아니오(Negative)|FP|TN|  "
   ]
  },
  {
   "cell_type": "markdown",
   "metadata": {},
   "source": [
    "- TP : 참긍정\n",
    "    - 병이 있다고 예측을 했고, 실제로 병이 있었다\n",
    "    - 긍정한것이 참이 되었다\n",
    "    \n",
    "- TN : 참부정\n",
    "    - \n",
    "\n",
    "- FP : 거짓긍정\n",
    "\n",
    "- FN : 거짓부정"
   ]
  },
  {
   "cell_type": "code",
   "execution_count": null,
   "metadata": {},
   "outputs": [],
   "source": []
  },
  {
   "cell_type": "code",
   "execution_count": null,
   "metadata": {},
   "outputs": [],
   "source": []
  },
  {
   "cell_type": "code",
   "execution_count": null,
   "metadata": {},
   "outputs": [],
   "source": []
  },
  {
   "cell_type": "code",
   "execution_count": null,
   "metadata": {},
   "outputs": [],
   "source": []
  },
  {
   "cell_type": "code",
   "execution_count": null,
   "metadata": {},
   "outputs": [],
   "source": []
  },
  {
   "cell_type": "markdown",
   "metadata": {},
   "source": []
  }
 ],
 "metadata": {
  "kernelspec": {
   "display_name": "Python 3",
   "language": "python",
   "name": "python3"
  },
  "language_info": {
   "codemirror_mode": {
    "name": "ipython",
    "version": 3
   },
   "file_extension": ".py",
   "mimetype": "text/x-python",
   "name": "python",
   "nbconvert_exporter": "python",
   "pygments_lexer": "ipython3",
   "version": "3.7.4"
  }
 },
 "nbformat": 4,
 "nbformat_minor": 2
}
